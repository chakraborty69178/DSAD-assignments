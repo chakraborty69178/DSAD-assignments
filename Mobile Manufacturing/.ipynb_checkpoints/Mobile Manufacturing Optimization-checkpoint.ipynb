{
 "cells": [
  {
   "cell_type": "markdown",
   "metadata": {},
   "source": [
    "# Total time Function\n",
    "\n",
    "this is the Function calculating the total time required for manufactiring and its Assembly for all model"
   ]
  },
  {
   "cell_type": "code",
   "execution_count": 11,
   "metadata": {},
   "outputs": [],
   "source": [
    "def totalTime(timeMappings , order):\n",
    "    return totalTime"
   ]
  },
  {
   "cell_type": "markdown",
   "metadata": {},
   "source": [
    "# Importing files and data preprocessing\n",
    "\n",
    "this is the section where we import data from the file and do some preprocessing stuffs"
   ]
  },
  {
   "cell_type": "code",
   "execution_count": 43,
   "metadata": {},
   "outputs": [
    {
     "name": "stdout",
     "output_type": "stream",
     "text": [
      "{'1': {'man': '5', 'ass': '7'}, '2': {'man': '1', 'ass': '2'}, '3': {'man': '8', 'ass': '2'}, '4': {'man': '5', 'ass': '4'}, '5': {'man': '3', 'ass': '7'}, '6': {'man': '4', 'ass': '4'}}\n",
      "[['1' '2' '3' '4' '5' '6']\n",
      " ['5' '1' '8' '5' '3' '4']\n",
      " ['7' '2' '2' '4' '7' '4']]\n"
     ]
    }
   ],
   "source": [
    "file = open(\"input.txt\").read().split(\"\\n\")\n",
    "data = {}\n",
    "for i in file:\n",
    "    record = i.split(\" / \")\n",
    "    data[record[0]]={\n",
    "            'man' : record[1],\n",
    "            'ass': record[2]\n",
    "        }\n",
    "print(data)\n",
    "keys = data.keys()\n",
    "model =[]\n",
    "man =[]\n",
    "ass =[]\n",
    "for i in keys:\n",
    "    model.append(i)\n",
    "for i in range(0,len(model)):\n",
    "    man.append(data[model[i]]['man'])\n",
    "    ass.append(data[model[i]]['ass'])\n",
    "\n",
    "import numpy as np\n",
    "\n",
    "dataArray = np.array([model,man,ass])\n",
    "print(dataArray)"
   ]
  },
  {
   "cell_type": "code",
   "execution_count": 42,
   "metadata": {},
   "outputs": [
    {
     "name": "stdout",
     "output_type": "stream",
     "text": [
      "[['1' '2' '3' '4' '5' '6']\n",
      " ['5' '1' '8' '5' '3' '4']\n",
      " ['7' '2' '2' '4' '7' '4']]\n"
     ]
    }
   ],
   "source": [
    "order = []\n"
   ]
  },
  {
   "cell_type": "code",
   "execution_count": null,
   "metadata": {},
   "outputs": [],
   "source": []
  }
 ],
 "metadata": {
  "kernelspec": {
   "display_name": "Python 3",
   "language": "python",
   "name": "python3"
  },
  "language_info": {
   "codemirror_mode": {
    "name": "ipython",
    "version": 3
   },
   "file_extension": ".py",
   "mimetype": "text/x-python",
   "name": "python",
   "nbconvert_exporter": "python",
   "pygments_lexer": "ipython3",
   "version": "3.7.4"
  }
 },
 "nbformat": 4,
 "nbformat_minor": 2
}
