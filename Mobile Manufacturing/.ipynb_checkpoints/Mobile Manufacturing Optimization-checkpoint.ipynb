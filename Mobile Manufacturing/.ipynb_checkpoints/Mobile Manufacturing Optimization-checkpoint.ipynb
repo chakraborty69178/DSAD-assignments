{
 "cells": [
  {
   "cell_type": "markdown",
   "metadata": {},
   "source": [
    "# Total time Function\n",
    "\n",
    "this is the Function calculating the total time required for manufactiring and its Assembly for all model"
   ]
  },
  {
   "cell_type": "code",
   "execution_count": 132,
   "metadata": {},
   "outputs": [],
   "source": [
    "def totalTime(timeMappings , order):\n",
    "    timeMan =0\n",
    "    timeAss =0\n",
    "    idleTime =0\n",
    "    timeManStart =[]\n",
    "    timeAssStart =[]\n",
    "    for i in order:\n",
    "        timeManStart.append(timeMan)\n",
    "        timeMan += int(timeMappings[i]['man'])\n",
    "        if timeMan>=timeAss:\n",
    "            currIdle = timeMan - timeAss\n",
    "            idleTime += currIdle\n",
    "            timeAssStart.append(timeAss+currIdle)\n",
    "            timeAss += (currIdle+ int(timeMappings[i]['ass']))\n",
    "        else:\n",
    "            timeAssStart.append(timeAss)\n",
    "            timeAss += timeMappings[i]['ass']\n",
    "            \n",
    "    totalTime = 0\n",
    "    if timeMan>timeAss:\n",
    "        totalTime = timeMan\n",
    "    else:\n",
    "        totalTime = timeAss\n",
    "    return totalTime,idleTime,timeManStart,timeAssStart"
   ]
  },
  {
   "cell_type": "markdown",
   "metadata": {},
   "source": [
    "# Importing files and data preprocessing\n",
    "\n",
    "this is the section where we import data from the file and do some preprocessing stuffs"
   ]
  },
  {
   "cell_type": "code",
   "execution_count": 133,
   "metadata": {},
   "outputs": [
    {
     "name": "stdout",
     "output_type": "stream",
     "text": [
      "{1: {'man': 5, 'ass': 7}, 2: {'man': 1, 'ass': 2}, 3: {'man': 8, 'ass': 2}, 4: {'man': 5, 'ass': 4}, 5: {'man': 3, 'ass': 7}, 6: {'man': 4, 'ass': 4}}\n"
     ]
    }
   ],
   "source": [
    "file = open(\"input.txt\").read().split(\"\\n\")\n",
    "data = {}\n",
    "for i in file:\n",
    "    record = i.split(\" / \")\n",
    "    data[int(record[0])]={\n",
    "            'man' : int(record[1]),\n",
    "            'ass': int(record[2])\n",
    "        }\n",
    "print(data)\n",
    "keys = data.keys()\n",
    "model =[]\n",
    "man =[]\n",
    "#ass =[]\n",
    "for i in keys:\n",
    "    model.append(i)\n",
    "for i in range(0,len(model)):\n",
    "    man.append(data[model[i]]['man'])\n",
    "    #ass.append(data[model[i]]['ass'])\n",
    "\n"
   ]
  },
  {
   "cell_type": "markdown",
   "metadata": {},
   "source": [
    "# Finding the Order of the Manufacturing Using Greedy Programming Techneque"
   ]
  },
  {
   "cell_type": "code",
   "execution_count": 134,
   "metadata": {},
   "outputs": [
    {
     "name": "stdout",
     "output_type": "stream",
     "text": [
      "[2 5 6 1 4 3]\n"
     ]
    }
   ],
   "source": [
    "n = len(model)\n",
    "for i in range(n):\n",
    "    for j in range(0, n-i-1):\n",
    "        if man[j] > man[j+1] :\n",
    "            model[j], model[j+1] = model[j+1], model[j]\n",
    "            man[j], man[j+1] = man[j+1], man[j]\n",
    "            ass[j], ass[j+1] = ass[j+1], ass[j]\n",
    "\n",
    "\n",
    "import numpy as np\n",
    "\n",
    "order = np.copy(model)\n",
    "print(order)\n"
   ]
  },
  {
   "cell_type": "code",
   "execution_count": 135,
   "metadata": {},
   "outputs": [
    {
     "name": "stdout",
     "output_type": "stream",
     "text": [
      "Order of Manufacturung:[2 5 6 1 4 3]\n",
      "Total production time for all mobiles is: 28\n",
      "Idle Time: 2\n"
     ]
    }
   ],
   "source": [
    "totalTime,idleTime,manStartTimes,assStartTimes = totalTime(data,order)\n",
    "print(\"Order of Manufacturung:\" +str(order))\n",
    "print(\"Total production time for all mobiles is: \"+str(totalTime))\n",
    "print(\"Idle Time: \"+ str(idleTime))"
   ]
  },
  {
   "cell_type": "code",
   "execution_count": 137,
   "metadata": {},
   "outputs": [
    {
     "name": "stdout",
     "output_type": "stream",
     "text": [
      "\n",
      "\n",
      "Order of Manufacturung:[2 5 6 1 4 3]\n",
      "Total production time for all mobiles is: 28\n",
      "Idle Time: 2\n"
     ]
    },
    {
     "data": {
      "image/png": "[encoded data removed]",
      "text/plain": [
       "<Figure size 432x288 with 1 Axes>"
      ]
     },
     "metadata": {
      "needs_background": "light"
     },
     "output_type": "display_data"
    }
   ],
   "source": [
    "# Importing the matplotlb.pyplot \n",
    "def Union(lst1, lst2,list3): \n",
    "    final_list = lst1 + lst2+list3 \n",
    "    return final_list \n",
    "import matplotlib.pyplot as plt \n",
    "\n",
    "fig, gnt = plt.subplots() \n",
    "\n",
    "# Setting Y-axis limits \n",
    "gnt.set_ylim(0, 15)  \n",
    "gnt.set_xlim(0, totalTime) \n",
    "gnt.set_xlabel('Time') \n",
    "gnt.set_ylabel('Assembly Line')  \n",
    "gnt.set_yticks([5, 10])\n",
    "gnt.set_xticks(Union(manStartTimes,assStartTimes,[totalTime]))\n",
    "gnt.set_yticklabels(['Manufacturing', 'Assembly']) \n",
    "gnt.grid(True)\n",
    "alt = True\n",
    "for i in range(0,len(order)):\n",
    "    if(alt):\n",
    "        alt = False\n",
    "        gnt.broken_barh([(manStartTimes[i], data[order[i]]['man'])], (3, 4), facecolors =('tab:blue'))\n",
    "        gnt.broken_barh([(assStartTimes[i], data[order[i]]['ass'])], (8, 4),facecolors ='tab:blue')\n",
    "    else:\n",
    "        alt = True\n",
    "        gnt.broken_barh([(manStartTimes[i], data[order[i]]['man'])], (3, 4), facecolors =('tab:orange'))\n",
    "        gnt.broken_barh([(assStartTimes[i], data[order[i]]['ass'])], (8, 4),facecolors ='tab:orange')\n",
    "print(\"\\n\\nOrder of Manufacturung:\" +str(order))\n",
    "print(\"Total production time for all mobiles is: \"+str(totalTime))\n",
    "print(\"Idle Time: \"+ str(idleTime))"
   ]
  },
  {
   "cell_type": "markdown",
   "metadata": {},
   "source": [
    "# Implementing Genetic Algorithm for Optimisation"
   ]
  },
  {
   "cell_type": "code",
   "execution_count": null,
   "metadata": {},
   "outputs": [],
   "source": []
  }
 ],
 "metadata": {
  "kernelspec": {
   "display_name": "Python 3",
   "language": "python",
   "name": "python3"
  },
  "language_info": {
   "codemirror_mode": {
    "name": "ipython",
    "version": 3
   },
   "file_extension": ".py",
   "mimetype": "text/x-python",
   "name": "python",
   "nbconvert_exporter": "python",
   "pygments_lexer": "ipython3",
   "version": "3.7.4"
  }
 },
 "nbformat": 4,
 "nbformat_minor": 2
}
